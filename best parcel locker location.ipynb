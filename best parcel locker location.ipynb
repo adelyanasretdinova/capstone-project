{
  "nbformat": 4,
  "nbformat_minor": 0,
  "metadata": {
    "colab": {
      "name": "Untitled0.ipynb",
      "provenance": []
    },
    "kernelspec": {
      "name": "python3",
      "display_name": "Python 3"
    }
  },
  "cells": [
    {
      "cell_type": "markdown",
      "metadata": {
        "id": "WvIXToDu5D6l"
      },
      "source": [
        "# Finding the best location for the new pick-up point in Berlin\r\n",
        "\r\n",
        "\r\n",
        "### Introduction/Business Problem:\r\n",
        "\r\n",
        "Postal companies are very interested in provide the best service to the customers, when they are ordring their parcels to the pick-up points.\r\n",
        "Its very crucial for every delivery service to find the best location for those type of delivery, which could serve as many customers as possible, \r\n",
        "and be open/avaliale for the customers for as many hours, as possible.\r\n",
        "Pick-up points normally include differnt types of the locaton - post offices, parcel lockers, small convinient shops, gas stations etc. \r\n",
        "One of the local Berlin express currier has decided to place a new parcel locker in Treptow-Koepenick - one of the largest districts with the low density. Therefore bz placing a parcel locker, currier can secure 24x7 access to they facility and very important that the location wont be man-powered which is even more secure during the pandemic.\r\n",
        "As an analyst, i have been asked to find the best location for this new parcel locker in Treptow-Koepenick. As the area is quite large, wise idea would be to choose a location not far from one of the supermarkets at this area, as supermarkets are not always one of the main \"attention\" attractors in any districts, but also could guarantee an additional security to our future parcel locker, as in this case there would be always people around. Ideally and optionally would be great to have a look at the supermarket's working hours as this could help us to plan the customers visiting time to the parcel locker.\r\n",
        "\r\n",
        "### Data Collection and Usage:\r\n",
        "\r\n",
        "I am planning to uilize the Foursquare API to get the location data on the supermarkets located in Treptow-Koepenick, after that i would analize and cluster this data in oder to find out the optimal location to the parcel locker, which supposed to be located very close to the supermarket, also taking into account the wrking hours of the supermarket. After that i would be using K- means algorithm to classify the data.\r\n",
        "I would only be looking at the supermarkets locatedi in specific area and with the working hours after 8pm, becasue i am interested only in the supermarkets which are open late. Also, i have decided to take the center point as Rathaus Koepenick - this is the area which is not the geografical center, but the cultural center of the district. I would set up the large radius from it in order to use data at Foursquare.\r\n",
        "\r\n",
        "\r\n"
      ]
    }
  ]
}